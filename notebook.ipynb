{
 "cells": [
  {
   "cell_type": "code",
   "execution_count": 30,
   "metadata": {},
   "outputs": [
    {
     "name": "stdout",
     "output_type": "stream",
     "text": [
      "{'data': {'id': 'd80a64b2-0d1e-444e-a584-4095881382bc', 'type': 'estimate', 'attributes': {'passengers': 2, 'legs': [{'departure_airport': 'SFO', 'destination_airport': 'YYZ'}, {'departure_airport': 'YYZ', 'destination_airport': 'SFO'}], 'distance_value': 7454.15, 'distance_unit': 'km', 'estimated_at': '2023-11-02T06:30:00.644Z', 'carbon_g': 859824, 'carbon_lb': 1895.59, 'carbon_kg': 859.82, 'carbon_mt': 0.86}}}\n"
     ]
    }
   ],
   "source": [
    "import pandas as pd\n",
    "import numpy as np\n",
    "import requests as rq\n",
    "\n",
    "api_key = 'fXEzJ1nKIxwyo9y2PBVAoQ'\n",
    "url = 'https://www.carboninterface.com/api/v1/estimates'\n",
    "\n",
    "departure_airport1 = input(\"Enter Departing Airport 1: \")\n",
    "destination_airport1 = input(\"Enter Destination Airport 1: \")\n",
    "\n",
    "departure_airport2 = input(\"Enter Departing Airport 2: \")\n",
    "destination_airport2 = input(\"Enter Destination Airport 2: \")\n",
    "\n",
    "headers = {\n",
    "    'Authorization': f'Bearer {api_key}',\n",
    "    'Content-Type': 'application/json'\n",
    "}\n",
    "\n",
    "data = {\"type\": \"flight\",\"passengers\": 2,\"legs\": [{\"departure_airport\": departure_airport1, \"destination_airport\": destination_airport1},\n",
    "        {\"departure_airport\": departure_airport2, \"destination_airport\": destination_airport2}\n",
    "    ]\n",
    "}\n",
    "\n",
    "response = rq.post(url, headers=headers, json=data)\n",
    "result = response.json()\n",
    "print(result)"
   ]
  },
  {
   "cell_type": "code",
   "execution_count": 35,
   "metadata": {},
   "outputs": [
    {
     "data": {
      "text/html": [
       "<div>\n",
       "<style scoped>\n",
       "    .dataframe tbody tr th:only-of-type {\n",
       "        vertical-align: middle;\n",
       "    }\n",
       "\n",
       "    .dataframe tbody tr th {\n",
       "        vertical-align: top;\n",
       "    }\n",
       "\n",
       "    .dataframe thead th {\n",
       "        text-align: right;\n",
       "    }\n",
       "</style>\n",
       "<table border=\"1\" class=\"dataframe\">\n",
       "  <thead>\n",
       "    <tr style=\"text-align: right;\">\n",
       "      <th></th>\n",
       "      <th>passengers</th>\n",
       "      <th>legs</th>\n",
       "      <th>distance_value</th>\n",
       "      <th>distance_unit</th>\n",
       "      <th>estimated_at</th>\n",
       "      <th>carbon_g</th>\n",
       "      <th>carbon_lb</th>\n",
       "      <th>carbon_kg</th>\n",
       "      <th>carbon_mt</th>\n",
       "    </tr>\n",
       "  </thead>\n",
       "  <tbody>\n",
       "    <tr>\n",
       "      <th>0</th>\n",
       "      <td>2</td>\n",
       "      <td>{'departure_airport': 'SFO', 'destination_airp...</td>\n",
       "      <td>7454.15</td>\n",
       "      <td>km</td>\n",
       "      <td>2023-11-02T06:30:00.644Z</td>\n",
       "      <td>859824</td>\n",
       "      <td>1895.59</td>\n",
       "      <td>859.82</td>\n",
       "      <td>0.86</td>\n",
       "    </tr>\n",
       "    <tr>\n",
       "      <th>1</th>\n",
       "      <td>2</td>\n",
       "      <td>{'departure_airport': 'YYZ', 'destination_airp...</td>\n",
       "      <td>7454.15</td>\n",
       "      <td>km</td>\n",
       "      <td>2023-11-02T06:30:00.644Z</td>\n",
       "      <td>859824</td>\n",
       "      <td>1895.59</td>\n",
       "      <td>859.82</td>\n",
       "      <td>0.86</td>\n",
       "    </tr>\n",
       "  </tbody>\n",
       "</table>\n",
       "</div>"
      ],
      "text/plain": [
       "   passengers                                               legs  \\\n",
       "0           2  {'departure_airport': 'SFO', 'destination_airp...   \n",
       "1           2  {'departure_airport': 'YYZ', 'destination_airp...   \n",
       "\n",
       "   distance_value distance_unit              estimated_at  carbon_g  \\\n",
       "0         7454.15            km  2023-11-02T06:30:00.644Z    859824   \n",
       "1         7454.15            km  2023-11-02T06:30:00.644Z    859824   \n",
       "\n",
       "   carbon_lb  carbon_kg  carbon_mt  \n",
       "0    1895.59     859.82       0.86  \n",
       "1    1895.59     859.82       0.86  "
      ]
     },
     "execution_count": 35,
     "metadata": {},
     "output_type": "execute_result"
    }
   ],
   "source": [
    "data = result['data']['attributes']\n",
    "\n",
    "df = pd.DataFrame(data = data)\n",
    "df"
   ]
  },
  {
   "cell_type": "code",
   "execution_count": 36,
   "metadata": {},
   "outputs": [
    {
     "name": "stdout",
     "output_type": "stream",
     "text": [
      "Carbon Emissions To Flight (Grams):  859824\n",
      "Carbon Emissions Return Flight (Grams):  859824\n"
     ]
    }
   ],
   "source": [
    "print(\"Carbon Emissions To Flight (Grams): \", df['carbon_g'][0])\n",
    "print(\"Carbon Emissions Return Flight (Grams): \", df['carbon_g'][1])"
   ]
  },
  {
   "cell_type": "code",
   "execution_count": null,
   "metadata": {},
   "outputs": [],
   "source": []
  }
 ],
 "metadata": {
  "kernelspec": {
   "display_name": "Python 3.9.12 ('tensorflow')",
   "language": "python",
   "name": "python3"
  },
  "language_info": {
   "codemirror_mode": {
    "name": "ipython",
    "version": 3
   },
   "file_extension": ".py",
   "mimetype": "text/x-python",
   "name": "python",
   "nbconvert_exporter": "python",
   "pygments_lexer": "ipython3",
   "version": "3.9.12"
  },
  "orig_nbformat": 4,
  "vscode": {
   "interpreter": {
    "hash": "4bd624a0593993fe43ac4046b27b898fb2ef75c21c08f81e89e64ea0f51df676"
   }
  }
 },
 "nbformat": 4,
 "nbformat_minor": 2
}
